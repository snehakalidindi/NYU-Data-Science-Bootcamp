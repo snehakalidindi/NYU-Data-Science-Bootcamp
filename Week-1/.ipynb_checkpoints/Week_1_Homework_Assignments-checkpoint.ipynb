{
 "cells": [
  {
   "cell_type": "raw",
   "id": "9588e59c-0ed4-4014-a61f-d9f8b099700f",
   "metadata": {},
   "source": [
    "1. Write a program to display the Fibonacci Series up to 10 terms."
   ]
  },
  {
   "cell_type": "code",
   "execution_count": 9,
   "id": "7ac59537-c2ec-4b02-839a-fe555eeb14e0",
   "metadata": {},
   "outputs": [
    {
     "name": "stdout",
     "output_type": "stream",
     "text": [
      "Fibonacci Series up to 10 terms: [0, 1, 1, 2, 3, 5, 8, 13, 21, 34]\n"
     ]
    }
   ],
   "source": [
    "def fibonacci(n):\n",
    "    fib_series = [0, 1]\n",
    "    for i in range(2, n):\n",
    "        fib_series.append(fib_series[-1] + fib_series[-2])\n",
    "    return fib_series\n",
    "\n",
    "print(\"Fibonacci Series up to 10 terms:\", fibonacci(10))"
   ]
  },
  {
   "cell_type": "raw",
   "id": "1330f6e5-ea6a-453a-9de2-f47640b9b280",
   "metadata": {},
   "source": [
    "2. Write a program to display the numbers at the odd indices of a given list."
   ]
  },
  {
   "cell_type": "code",
   "execution_count": 10,
   "id": "cdb858c9-0ea7-45c7-ad7d-e9f890267748",
   "metadata": {},
   "outputs": [
    {
     "name": "stdout",
     "output_type": "stream",
     "text": [
      "Numbers at odd indices: [20, 40, 60, 80, 100]\n"
     ]
    }
   ],
   "source": [
    "# Sample list\n",
    "numbers = [10, 20, 30, 40, 50, 60, 70, 80, 90, 100]\n",
    "\n",
    "odd_index_numbers = [numbers[i] for i in range(len(numbers)) if i % 2 != 0]\n",
    "\n",
    "print(\"Numbers at odd indices:\", odd_index_numbers)"
   ]
  },
  {
   "cell_type": "raw",
   "id": "ccb4552b-9d11-4790-9818-04d971d2f9b8",
   "metadata": {},
   "source": [
    "3. Write a program to count the number of different words in the given text."
   ]
  },
  {
   "cell_type": "code",
   "execution_count": 11,
   "id": "8c270421-36b1-46e2-999a-9355ea1c484b",
   "metadata": {},
   "outputs": [
    {
     "name": "stdout",
     "output_type": "stream",
     "text": [
      "Number of different words in the text: 47\n"
     ]
    }
   ],
   "source": [
    "string = \"\"\" I have provided this text to provide tips on creating interesting paragraphs.\n",
    "\n",
    "First, start with a clear topic sentence that introduces the main idea.\n",
    "\n",
    "Then, support the topic sentence with specific details, examples, and evidence.\n",
    "\n",
    "Vary the sentence length and structure to keep the reader engaged.\n",
    "\n",
    "Finally, end with a strong concluding sentence that summarizes the main points.\n",
    "\n",
    "Remember, practice makes perfect! \"\"\"\n",
    "\n",
    "# Convert text to lowercase and split into words\n",
    "words = string.lower().split()\n",
    "\n",
    "# Remove punctuation\n",
    "import string as str_mod\n",
    "words = [word.strip(str_mod.punctuation) for word in words]\n",
    "\n",
    "# Count unique words\n",
    "unique_word_count = len(set(words))\n",
    "\n",
    "print(\"Number of different words in the text:\", unique_word_count)"
   ]
  },
  {
   "cell_type": "raw",
   "id": "f3849e47-c195-4033-af3f-fd289cf776cc",
   "metadata": {},
   "source": [
    " 4. Write a function count_vowels(word) that takes a word as an argument and returns the number of vowels in the word."
   ]
  },
  {
   "cell_type": "code",
   "execution_count": 3,
   "id": "bd09c9a1-e138-4347-9ff9-aa4d4113bdbd",
   "metadata": {},
   "outputs": [
    {
     "name": "stdout",
     "output_type": "stream",
     "text": [
      "6\n"
     ]
    }
   ],
   "source": [
    "def count_vowels(word):\n",
    "    vowels = \"aeiouAEIOU\"\n",
    "    count = sum(1 for char in word if char in vowels)\n",
    "    return count\n",
    "\n",
    "print(count_vowels(\"Sneha Kalidindi\"))"
   ]
  },
  {
   "cell_type": "raw",
   "id": "d132ba73-8faf-4f78-bfee-135136848635",
   "metadata": {},
   "source": [
    "5. Iterate through the following list of animals and print each one in all caps.\n",
    "animals=['tiger', 'elephant', 'monkey', 'zebra', 'panther']"
   ]
  },
  {
   "cell_type": "code",
   "execution_count": 4,
   "id": "bec320df-302d-4adf-a2fd-1ef7ee66f257",
   "metadata": {
    "scrolled": true
   },
   "outputs": [
    {
     "name": "stdout",
     "output_type": "stream",
     "text": [
      "TIGER\n",
      "ELEPHANT\n",
      "MONKEY\n",
      "ZEBRA\n",
      "PANTHER\n"
     ]
    }
   ],
   "source": [
    "animals = ['tiger', 'elephant', 'monkey', 'zebra', 'panther']\n",
    "\n",
    "for animal in animals:\n",
    "    print(animal.upper())"
   ]
  },
  {
   "cell_type": "raw",
   "id": "05176085-0a98-4f23-9084-a3c45d09eb1b",
   "metadata": {},
   "source": [
    "6. Print Numbers from 1 to 20 and Identify Odd/Even"
   ]
  },
  {
   "cell_type": "code",
   "execution_count": 5,
   "id": "2fde7316-5224-492e-9f6a-d34adf455b96",
   "metadata": {},
   "outputs": [
    {
     "name": "stdout",
     "output_type": "stream",
     "text": [
      "1 is ODD\n",
      "2 is EVEN\n",
      "3 is ODD\n",
      "4 is EVEN\n",
      "5 is ODD\n",
      "6 is EVEN\n",
      "7 is ODD\n",
      "8 is EVEN\n",
      "9 is ODD\n",
      "10 is EVEN\n",
      "11 is ODD\n",
      "12 is EVEN\n",
      "13 is ODD\n",
      "14 is EVEN\n",
      "15 is ODD\n",
      "16 is EVEN\n",
      "17 is ODD\n",
      "18 is EVEN\n",
      "19 is ODD\n",
      "20 is EVEN\n"
     ]
    }
   ],
   "source": [
    "for num in range(1, 21):\n",
    "    if num % 2 == 0:\n",
    "        print(f\"{num} is EVEN\")\n",
    "    else:\n",
    "        print(f\"{num} is ODD\")"
   ]
  },
  {
   "cell_type": "raw",
   "id": "e16fcc20-c42e-4b87-99aa-985a4d1a13ef",
   "metadata": {},
   "source": [
    "7. Function to Sum Two Integers from User Input"
   ]
  },
  {
   "cell_type": "code",
   "execution_count": 6,
   "id": "b65e053b-67c5-49fe-9b5f-c873e1364137",
   "metadata": {
    "scrolled": true
   },
   "outputs": [
    {
     "name": "stdin",
     "output_type": "stream",
     "text": [
      "Enter first integer:  23\n",
      "Enter second integer:  24\n"
     ]
    },
    {
     "name": "stdout",
     "output_type": "stream",
     "text": [
      "Sum: 47\n"
     ]
    }
   ],
   "source": [
    "def sum_of_integers():\n",
    "    a = int(input(\"Enter first integer: \"))\n",
    "    b = int(input(\"Enter second integer: \"))\n",
    "    return a + b\n",
    "\n",
    "print(\"Sum:\", sum_of_integers())"
   ]
  }
 ],
 "metadata": {
  "kernelspec": {
   "display_name": "Python 3 (ipykernel)",
   "language": "python",
   "name": "python3"
  },
  "language_info": {
   "codemirror_mode": {
    "name": "ipython",
    "version": 3
   },
   "file_extension": ".py",
   "mimetype": "text/x-python",
   "name": "python",
   "nbconvert_exporter": "python",
   "pygments_lexer": "ipython3",
   "version": "3.12.2"
  }
 },
 "nbformat": 4,
 "nbformat_minor": 5
}
