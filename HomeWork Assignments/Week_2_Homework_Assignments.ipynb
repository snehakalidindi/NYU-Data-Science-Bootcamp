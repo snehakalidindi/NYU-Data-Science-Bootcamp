{
 "cells": [
  {
   "cell_type": "markdown",
   "id": "3c7a1acf-7a6b-4e21-8ee0-f4ae04e52d08",
   "metadata": {},
   "source": [
    "Load the Data"
   ]
  },
  {
   "cell_type": "code",
   "execution_count": 1,
   "id": "d57172b2-c5e6-4bf5-9840-e981ef9765c5",
   "metadata": {},
   "outputs": [
    {
     "name": "stdout",
     "output_type": "stream",
     "text": [
      "File found! Loading dataset...\n",
      "First 5 rows:\n",
      " [[5.1 3.5 1.4 0.2]\n",
      " [4.9 3.  1.4 0.2]\n",
      " [4.7 3.2 1.3 0.2]\n",
      " [4.6 3.1 1.5 0.2]\n",
      " [5.  3.6 1.4 0.2]]\n"
     ]
    }
   ],
   "source": [
    "import numpy as np\n",
    "import os\n",
    "\n",
    "# Define the file path\n",
    "file_path = \"/Users/snehakalidindi/Documents/NYU-Data-Science-Bootcamp-Spring-2025/Datasets/iris.data\"\n",
    "\n",
    "# Check if the file exists before loading\n",
    "if os.path.exists(file_path):\n",
    "    print(\"File found! Loading dataset...\")\n",
    "    iris_2d = np.genfromtxt(file_path, delimiter=',', dtype='float', usecols=[0,1,2,3])\n",
    "    print(\"First 5 rows:\\n\", iris_2d[:5])\n",
    "else:\n",
    "    print(\"Error: File not found! Check the path and try again.\")"
   ]
  },
  {
   "cell_type": "markdown",
   "id": "83057b19-88dc-4b68-8590-f101ce22b253",
   "metadata": {},
   "source": [
    "Numpy \n",
    "\n",
    "Question 1: Stack Two NumPy Arrays Vertically and Horizontally"
   ]
  },
  {
   "cell_type": "code",
   "execution_count": 2,
   "id": "59ab0eb7-4f04-4376-a71e-afd23c41d034",
   "metadata": {},
   "outputs": [
    {
     "name": "stdout",
     "output_type": "stream",
     "text": [
      "Vertical Stack:\n",
      " [[5.1 3.5 1.4 0.2]\n",
      " [4.9 3.  1.4 0.2]\n",
      " [4.7 3.2 1.3 0.2]\n",
      " [4.6 3.1 1.5 0.2]\n",
      " [5.  3.6 1.4 0.2]\n",
      " [5.4 3.9 1.7 0.4]\n",
      " [4.6 3.4 1.4 0.3]\n",
      " [5.  3.4 1.5 0.2]\n",
      " [4.4 2.9 1.4 0.2]\n",
      " [4.9 3.1 1.5 0.1]]\n",
      "\n",
      "Horizontal Stack:\n",
      " [[5.1 3.5 1.4 0.2 5.4 3.9 1.7 0.4]\n",
      " [4.9 3.  1.4 0.2 4.6 3.4 1.4 0.3]\n",
      " [4.7 3.2 1.3 0.2 5.  3.4 1.5 0.2]\n",
      " [4.6 3.1 1.5 0.2 4.4 2.9 1.4 0.2]\n",
      " [5.  3.6 1.4 0.2 4.9 3.1 1.5 0.1]]\n"
     ]
    }
   ],
   "source": [
    "# Define two custom NumPy arrays using the first 5 rows of iris_2d\n",
    "A = iris_2d[:5]  # First 5 rows\n",
    "B = iris_2d[5:10]  # Next 5 rows\n",
    "\n",
    "# Stack vertically\n",
    "vertical_stack = np.vstack((A, B))\n",
    "\n",
    "# Stack horizontally\n",
    "horizontal_stack = np.hstack((A, B))\n",
    "\n",
    "print(\"Vertical Stack:\\n\", vertical_stack)\n",
    "print(\"\\nHorizontal Stack:\\n\", horizontal_stack)"
   ]
  },
  {
   "cell_type": "markdown",
   "id": "7f29f8b5-7a7a-448b-9896-764da3113e44",
   "metadata": {},
   "source": [
    "Question 2: Find Common Elements Between A and B"
   ]
  },
  {
   "cell_type": "code",
   "execution_count": 3,
   "id": "aa192fc6-f631-4297-9224-6717c8c07d6b",
   "metadata": {},
   "outputs": [
    {
     "name": "stdout",
     "output_type": "stream",
     "text": [
      "Common Elements:\n",
      " [0.2 1.4 1.5 3.1 4.6 4.9 5. ]\n"
     ]
    }
   ],
   "source": [
    "# Find intersection (common elements) between A and B\n",
    "common_elements = np.intersect1d(A, B)\n",
    "\n",
    "print(\"Common Elements:\\n\", common_elements)"
   ]
  },
  {
   "cell_type": "markdown",
   "id": "6d52f059-0c8b-4e72-8c91-e4ced1d3361c",
   "metadata": {},
   "source": [
    "Question 3: Extract Numbers Between 5 and 10"
   ]
  },
  {
   "cell_type": "code",
   "execution_count": 4,
   "id": "954bad16-a380-44cf-9bfd-c18cc3445792",
   "metadata": {},
   "outputs": [
    {
     "name": "stdout",
     "output_type": "stream",
     "text": [
      "Numbers between 5 and 10:\n",
      " [5.1 5.  5.4 5. ]\n"
     ]
    }
   ],
   "source": [
    "# Extract numbers between 5 and 10 from the first 10 rows of iris_2d\n",
    "filtered_numbers = iris_2d[:10][(iris_2d[:10] >= 5) & (iris_2d[:10] <= 10)]\n",
    "\n",
    "print(\"Numbers between 5 and 10:\\n\", filtered_numbers)"
   ]
  },
  {
   "cell_type": "markdown",
   "id": "ebe07408-0e24-457c-b9cf-47c7ca7a42c5",
   "metadata": {},
   "source": [
    "Question 4: Filter Rows in the Iris Dataset"
   ]
  },
  {
   "cell_type": "code",
   "execution_count": 5,
   "id": "ed945b05-a25d-4331-adca-ef4e02ca8611",
   "metadata": {},
   "outputs": [
    {
     "name": "stdout",
     "output_type": "stream",
     "text": [
      "Filtered rows:\n",
      " [[4.8 3.4 1.6 0.2]\n",
      " [4.8 3.4 1.9 0.2]\n",
      " [4.7 3.2 1.6 0.2]\n",
      " [4.8 3.1 1.6 0.2]\n",
      " [4.9 2.4 3.3 1. ]\n",
      " [4.9 2.5 4.5 1.7]]\n"
     ]
    }
   ],
   "source": [
    "# Filter rows where petal length (3rd column) > 1.5 and sepal length (1st column) < 5.0\n",
    "filtered_rows = iris_2d[(iris_2d[:, 2] > 1.5) & (iris_2d[:, 0] < 5.0)]\n",
    "\n",
    "print(\"Filtered rows:\\n\", filtered_rows)"
   ]
  },
  {
   "cell_type": "markdown",
   "id": "966f1287-93a8-4fd9-b25a-710fd4023a66",
   "metadata": {},
   "source": [
    "Question 1: Filter ‘Manufacturer’, ‘Model’, and ‘Type’ for Every 20th Row"
   ]
  },
  {
   "cell_type": "code",
   "execution_count": 7,
   "id": "73969770-8f4b-4fbb-a63c-da729ab41a78",
   "metadata": {},
   "outputs": [
    {
     "name": "stdout",
     "output_type": "stream",
     "text": [
      "   Manufacturer    Model     Type\n",
      "0         Acura  Integra    Small\n",
      "20     Chrysler  LeBaron  Compact\n",
      "40        Honda  Prelude   Sporty\n",
      "60      Mercury   Cougar  Midsize\n",
      "80       Subaru   Loyale    Small\n"
     ]
    }
   ],
   "source": [
    "import pandas as pd\n",
    "import numpy as np\n",
    "\n",
    "# Load dataset\n",
    "df = pd.read_csv('https://raw.githubusercontent.com/selva86/datasets/master/Cars93_miss.csv')\n",
    "\n",
    "# Select every 20th row starting from index 0\n",
    "filtered_df = df.iloc[::20, :][['Manufacturer', 'Model', 'Type']]\n",
    "\n",
    "# Display the filtered data\n",
    "print(filtered_df)"
   ]
  },
  {
   "cell_type": "markdown",
   "id": "9e5879a5-59fe-4d9d-91ec-b1f4ead1335f",
   "metadata": {},
   "source": [
    "Question 2: Replace Missing Values in Min.Price and Max.Price Columns"
   ]
  },
  {
   "cell_type": "code",
   "execution_count": null,
   "id": "4647c25b-d693-4aaf-b916-06e57f8af60b",
   "metadata": {},
   "outputs": [],
   "source": [
    "# Load dataset\n",
    "df = pd.read_csv('https://raw.githubusercontent.com/selva86/datasets/master/Cars93_miss.csv')\n",
    "\n",
    "# Replace missing values with column means\n",
    "df['Min.Price'].fillna(df['Min.Price'].mean(), inplace=True)\n",
    "df['Max.Price'].fillna(df['Max.Price'].mean(), inplace=True)\n",
    "\n",
    "# Display first few rows to verify changes\n",
    "print(df[['Min.Price', 'Max.Price']].head())"
   ]
  },
  {
   "cell_type": "markdown",
   "id": "5ac57be9-6d97-4d82-8346-3bd5538583d1",
   "metadata": {},
   "source": [
    "Question 3: Get Rows Where Row Sum > 100"
   ]
  },
  {
   "cell_type": "code",
   "execution_count": 8,
   "id": "3bdefde3-1026-4e28-a57e-9079d279ae43",
   "metadata": {},
   "outputs": [
    {
     "name": "stdout",
     "output_type": "stream",
     "text": [
      "     0   1   2   3\n",
      "3   33  12  34  33\n",
      "5   32  31  24  33\n",
      "7   19  39  33  19\n",
      "9   23  30  36  23\n",
      "11  27  35  18  39\n",
      "12  14  31  29  37\n",
      "13  18  22  31  35\n",
      "14  36  25  18  31\n"
     ]
    }
   ],
   "source": [
    "# Create a DataFrame with random integers\n",
    "df = pd.DataFrame(np.random.randint(10, 40, 60).reshape(-1, 4))\n",
    "\n",
    "# Find rows where the sum is greater than 100\n",
    "filtered_rows = df[df.sum(axis=1) > 100]\n",
    "\n",
    "# Display the filtered rows\n",
    "print(filtered_rows)"
   ]
  },
  {
   "cell_type": "code",
   "execution_count": null,
   "id": "bde3beb2-8e19-4ad4-8a00-3984c5762b18",
   "metadata": {},
   "outputs": [],
   "source": []
  }
 ],
 "metadata": {
  "kernelspec": {
   "display_name": "Python 3 (ipykernel)",
   "language": "python",
   "name": "python3"
  },
  "language_info": {
   "codemirror_mode": {
    "name": "ipython",
    "version": 3
   },
   "file_extension": ".py",
   "mimetype": "text/x-python",
   "name": "python",
   "nbconvert_exporter": "python",
   "pygments_lexer": "ipython3",
   "version": "3.12.2"
  }
 },
 "nbformat": 4,
 "nbformat_minor": 5
}
